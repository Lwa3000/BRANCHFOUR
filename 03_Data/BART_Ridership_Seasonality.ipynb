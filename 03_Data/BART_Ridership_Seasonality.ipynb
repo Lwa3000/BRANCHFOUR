{
 "cells": [
  {
   "cell_type": "markdown",
   "metadata": {},
   "source": [
    "**BART ridership Seasonality**\n",
    "\n",
    "- Pull total ridership by week for 2016 and 2017\n",
    "- Linear Graph depicting YOY:\n",
    "    - Highlight most significant peaks and valleys and find significant events/holidays associated with them\n",
    "- DF showing month over month / week over week builds\n",
    "- Hypothesis: Highest peak for 2016 and 2017 would have been Superbowl week (Superbowl in SF February 7th). This would be considered an outlier."
   ]
  },
  {
   "cell_type": "code",
   "execution_count": 2,
   "metadata": {},
   "outputs": [],
   "source": [
    "import os\n",
    "import pandas as pd\n",
    "import matplotlib.pyplot as plt"
   ]
  },
  {
   "cell_type": "code",
   "execution_count": null,
   "metadata": {},
   "outputs": [],
   "source": [
    "#Read excel files\n",
    "\n",
    "csv_file = pd.read_csv(\"../Resources/avg_rain_state.csv\")\n",
    "rain_df.head()\n",
    "\n",
    "for x in excel"
   ]
  }
 ],
 "metadata": {
  "kernelspec": {
   "display_name": "Python [conda env:snakes]",
   "language": "python",
   "name": "conda-env-snakes-py"
  },
  "language_info": {
   "codemirror_mode": {
    "name": "ipython",
    "version": 3
   },
   "file_extension": ".py",
   "mimetype": "text/x-python",
   "name": "python",
   "nbconvert_exporter": "python",
   "pygments_lexer": "ipython3",
   "version": "3.6.4"
  }
 },
 "nbformat": 4,
 "nbformat_minor": 2
}
